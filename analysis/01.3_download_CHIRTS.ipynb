{
 "cells": [
  {
   "attachments": {},
   "cell_type": "markdown",
   "metadata": {},
   "source": [
    "# Download CHIRTS Data from IRI"
   ]
  },
  {
   "cell_type": "code",
   "execution_count": 1,
   "metadata": {},
   "outputs": [
    {
     "data": {
      "text/html": [
       "\n",
       "                <script type=\"application/javascript\" id=\"jupyter_black\">\n",
       "                (function() {\n",
       "                    if (window.IPython === undefined) {\n",
       "                        return\n",
       "                    }\n",
       "                    var msg = \"WARNING: it looks like you might have loaded \" +\n",
       "                        \"jupyter_black in a non-lab notebook with \" +\n",
       "                        \"`is_lab=True`. Please double check, and if \" +\n",
       "                        \"loading with `%load_ext` please review the README!\"\n",
       "                    console.log(msg)\n",
       "                    alert(msg)\n",
       "                })()\n",
       "                </script>\n",
       "                "
      ],
      "text/plain": [
       "<IPython.core.display.HTML object>"
      ]
     },
     "metadata": {},
     "output_type": "display_data"
    }
   ],
   "source": [
    "%load_ext jupyter_black\n",
    "import os\n",
    "from pathlib import Path\n",
    "import requests\n",
    "from bs4 import BeautifulSoup"
   ]
  },
  {
   "cell_type": "code",
   "execution_count": 2,
   "metadata": {},
   "outputs": [],
   "source": [
    "data_dir = Path(os.getenv(\"HAM_DIR\")) / \"temperature/\"\n",
    "shp_dir = Path(os.getenv(\"AA_DATA_DIR\")) / \"public/raw/ner/cod_ab/ner_cod_ab/\""
   ]
  },
  {
   "cell_type": "code",
   "execution_count": null,
   "metadata": {},
   "outputs": [],
   "source": [
    "ner_shp_adm0 = gpd.read_file(shp_dir / \"adm0.shp.zip\")\n"
   ]
  },
  {
   "attachments": {},
   "cell_type": "markdown",
   "metadata": {},
   "source": [
    "The next two cells take a lot of time to run."
   ]
  },
  {
   "cell_type": "code",
   "execution_count": null,
   "metadata": {},
   "outputs": [],
   "source": [
    "# URL_Tmax = \"https://iridl.ldeo.columbia.edu/SOURCES/.UCSB/.CHIRTS/.v1.0/.daily/.global/.0p05/.tmax/X/%280.1E%29%2816E%29RANGEEDGES/Y/%2811.6N%29%2823.6N%29RANGEEDGES/ngridtable/4+ncoltable.html?tabopt.N=5&tabopt.1=text&tabopt.2=text&tabopt.3=text&tabopt.4=text&tabopt.5=blankNaN&NaNmarker=&tabtype=csv&eol=CR-LF+%28DOS%2FWindows%29&filename=datafile.csv\"\n",
    "URL_Tmax = \"https://iridl.ldeo.columbia.edu/SOURCES/.UCSB/.CHIRTS/.v1.0/.daily/.global/.0p05/.tmax/X/%280.1E%29%2816E%29RANGEEDGES/Y/%2811.6N%29%2823.6NN%29RANGEEDGES/T/%281%20Jan%201983%29%2831%20Dec%202016%29RANGEEDGES/T/%281%20Jan%201983%29%2831%20Dec%202016%29RANGEEDGES/[Y+X]datatable.tsv\"\n",
    "response_tmax = requests.get(URL_Tmax)\n",
    "open(data_dir / \"CHIRTSTmaxdatafile.tsv\", \"wb\").write(response_tmax.content)"
   ]
  },
  {
   "cell_type": "code",
   "execution_count": 7,
   "metadata": {},
   "outputs": [
    {
     "data": {
      "text/plain": [
       "95"
      ]
     },
     "execution_count": 7,
     "metadata": {},
     "output_type": "execute_result"
    }
   ],
   "source": [
    "# URL_Tmin = \"https://iridl.ldeo.columbia.edu/SOURCES/.UCSB/.CHIRTS/.v1.0/.daily/.global/.0p05/.tmin/X/%280.1E%29%2816E%29RANGEEDGES/Y/%2811.6N%29%2823.6N%29RANGEEDGES/ngridtable/4+ncoltable.html?tabopt.N=5&tabopt.1=text&tabopt.2=text&tabopt.3=text&tabopt.4=text&tabopt.5=blankNaN&NaNmarker=&tabtype=csv&eol=CR-LF+%28DOS%2FWindows%29&filename=datafile.csv\"\n",
    "URL_Tmin = \"https://iridl.ldeo.columbia.edu/SOURCES/.UCSB/.CHIRTS/.v1.0/.daily/.global/.0p05/.tmin/X/%280.1E%29%2816E%29RANGEEDGES/Y/%2811.6N%29%2823.6N%29RANGEEDGES/[Y+X]datatable.tsv\"\n",
    "response_tmin = requests.get(URL_Tmin)\n",
    "open(data_dir / \"CHIRTSTmindatafile.tsv\", \"wb\").write(response_tmin.content)"
   ]
  },
  {
   "attachments": {},
   "cell_type": "markdown",
   "metadata": {},
   "source": [
    "This cell can be run quickly."
   ]
  },
  {
   "cell_type": "code",
   "execution_count": 3,
   "metadata": {},
   "outputs": [
    {
     "name": "stderr",
     "output_type": "stream",
     "text": [
      "c:\\Users\\pauni\\Desktop\\Work\\OCHA\\GitHub\\VirtualEnv\\hamenv\\lib\\site-packages\\urllib3\\connectionpool.py:1045: InsecureRequestWarning: Unverified HTTPS request is being made to host 'edcintl.cr.usgs.gov'. Adding certificate verification is strongly advised. See: https://urllib3.readthedocs.io/en/1.26.x/advanced-usage.html#ssl-warnings\n",
      "  warnings.warn(\n"
     ]
    }
   ],
   "source": [
    "# Alternative Source\n",
    "# This data is global\n",
    "URL = \"https://edcintl.cr.usgs.gov/downloads/sciweb1/shared/fews/web/global/monthly/chirts/tmax/downloads/monthly/\"\n",
    "\n",
    "\n",
    "def list_files(URL, ext):\n",
    "    page = requests.get(URL, verify=False).text\n",
    "    soup = BeautifulSoup(page, \"html.parser\")\n",
    "    for node in soup.find_all(\"a\"):\n",
    "        if node.get(\"href\").endswith(ext):\n",
    "            file_url = [\n",
    "                URL + \"/\" + node.get(\"href\")\n",
    "                for node in soup.find_all(\"a\")\n",
    "                if node.get(\"href\").endswith(ext)\n",
    "            ]\n",
    "            file_list = [\n",
    "                node.get(\"href\")\n",
    "                for node in soup.find_all(\"a\")\n",
    "                if node.get(\"href\").endswith(ext)\n",
    "            ]\n",
    "    return file_list\n",
    "\n",
    "\n",
    "chirts_file_list = list_files(URL=URL, ext=\"tif\")"
   ]
  },
  {
   "cell_type": "code",
   "execution_count": null,
   "metadata": {},
   "outputs": [],
   "source": [
    "input_raster = rio.open_rasterio(file)\n",
    "rast_clip = input_raster.rio.clip_box(*grid.total_bounds)\n",
    "grid_df = rast_clip.oap.compute_raster_stats(\n",
    "    gdf=grid, feature_col=\"Centroid\", all_touched=True\n",
    ")"
   ]
  },
  {
   "cell_type": "code",
   "execution_count": 4,
   "metadata": {},
   "outputs": [
    {
     "name": "stderr",
     "output_type": "stream",
     "text": [
      "c:\\Users\\pauni\\Desktop\\Work\\OCHA\\GitHub\\VirtualEnv\\hamenv\\lib\\site-packages\\urllib3\\connectionpool.py:1045: InsecureRequestWarning: Unverified HTTPS request is being made to host 'edcintl.cr.usgs.gov'. Adding certificate verification is strongly advised. See: https://urllib3.readthedocs.io/en/1.26.x/advanced-usage.html#ssl-warnings\n",
      "  warnings.warn(\n"
     ]
    }
   ],
   "source": [
    "for file in chirts_file_list[0:1]:\n",
    "    if file in chirts_file_list:\n",
    "        req = requests.get(URL + file, verify=False, stream=True)\n",
    "        open(data_dir / file, \"wb\").write(req.content)"
   ]
  }
 ],
 "metadata": {
  "kernelspec": {
   "display_name": "hamenv",
   "language": "python",
   "name": "python3"
  },
  "language_info": {
   "codemirror_mode": {
    "name": "ipython",
    "version": 3
   },
   "file_extension": ".py",
   "mimetype": "text/x-python",
   "name": "python",
   "nbconvert_exporter": "python",
   "pygments_lexer": "ipython3",
   "version": "3.9.0"
  },
  "orig_nbformat": 4
 },
 "nbformat": 4,
 "nbformat_minor": 2
}

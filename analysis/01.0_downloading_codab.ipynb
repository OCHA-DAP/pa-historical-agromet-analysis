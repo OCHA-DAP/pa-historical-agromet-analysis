{
 "cells": [
  {
   "attachments": {},
   "cell_type": "markdown",
   "metadata": {},
   "source": [
    "# Downloading CODAB from HDX"
   ]
  },
  {
   "attachments": {},
   "cell_type": "markdown",
   "metadata": {},
   "source": [
    "The case for Niger was an outlier as the different admin levels were in different resources on HDX. Using this branch `feature/add-hrp-countries` for now before merging."
   ]
  },
  {
   "cell_type": "code",
   "execution_count": 1,
   "metadata": {},
   "outputs": [],
   "source": [
    "import logging\n",
    "from ochanticipy import create_custom_country_config, CodAB\n",
    "import os"
   ]
  },
  {
   "cell_type": "code",
   "execution_count": 2,
   "metadata": {},
   "outputs": [],
   "source": [
    "logging.basicConfig(level=logging.DEBUG)\n",
    "os.chdir(\"..\")\n",
    "country_config = create_custom_country_config(\"src/ner.yaml\")\n",
    "# country_config = create_country_config(\"ner\")"
   ]
  },
  {
   "cell_type": "code",
   "execution_count": 3,
   "metadata": {},
   "outputs": [],
   "source": [
    "codab = CodAB(country_config=country_config)\n",
    "# codab.download()"
   ]
  },
  {
   "cell_type": "code",
   "execution_count": 4,
   "metadata": {},
   "outputs": [
    {
     "name": "stderr",
     "output_type": "stream",
     "text": [
      "DEBUG:fiona._env:GDAL data found in package: path='c:\\\\Users\\\\pauni\\\\Desktop\\\\Work\\\\OCHA\\\\GitHub\\\\VirtualEnv\\\\hamenv\\\\lib\\\\site-packages\\\\fiona\\\\gdal_data'.\n",
      "DEBUG:fiona._env:PROJ_LIB found in environment.\n",
      "ERROR:fiona._env:`/vsizip/G:\\Shared drives\\Predictive Analytics\\CERF Anticipatory Action\\General - All AA projects\\Data\\public\\raw\\ner\\cod_ab\\ner_cod_ab.shp.zip\\NER_adm01_feb2018.zip' does not exist in the file system, and is not recognized as a supported dataset name.\n",
      "DEBUG:fiona._env:GDAL data found in package: path='c:\\\\Users\\\\pauni\\\\Desktop\\\\Work\\\\OCHA\\\\GitHub\\\\VirtualEnv\\\\hamenv\\\\lib\\\\site-packages\\\\fiona\\\\gdal_data'.\n",
      "DEBUG:fiona._env:PROJ_LIB found in environment.\n"
     ]
    },
    {
     "name": "stdout",
     "output_type": "stream",
     "text": [
      "Unexpected exception formatting exception. Falling back to standard exception\n"
     ]
    },
    {
     "name": "stderr",
     "output_type": "stream",
     "text": [
      "Traceback (most recent call last):\n",
      "  File \"fiona\\ogrext.pyx\", line 136, in fiona.ogrext.gdal_open_vector\n",
      "  File \"fiona\\_err.pyx\", line 291, in fiona._err.exc_wrap_pointer\n",
      "fiona._err.CPLE_OpenFailedError: '/vsizip/G:\\Shared drives\\Predictive Analytics\\CERF Anticipatory Action\\General - All AA projects\\Data\\public\\raw\\ner\\cod_ab\\ner_cod_ab.shp.zip\\NER_adm01_feb2018.zip' does not exist in the file system, and is not recognized as a supported dataset name.\n",
      "\n",
      "During handling of the above exception, another exception occurred:\n",
      "\n",
      "Traceback (most recent call last):\n",
      "  File \"c:\\Users\\pauni\\Desktop\\Work\\OCHA\\GitHub\\VirtualEnv\\hamenv\\lib\\site-packages\\ochanticipy\\datasources\\codab\\codab.py\", line 162, in _load_admin_layer\n",
      "    return gpd.read_file(f\"zip://{self._raw_filepath / layer_name}\")\n",
      "  File \"c:\\Users\\pauni\\Desktop\\Work\\OCHA\\GitHub\\VirtualEnv\\hamenv\\lib\\site-packages\\geopandas\\io\\file.py\", line 259, in _read_file\n",
      "    return _read_file_fiona(\n",
      "  File \"c:\\Users\\pauni\\Desktop\\Work\\OCHA\\GitHub\\VirtualEnv\\hamenv\\lib\\site-packages\\geopandas\\io\\file.py\", line 303, in _read_file_fiona\n",
      "    with reader(path_or_bytes, **kwargs) as features:\n",
      "  File \"c:\\Users\\pauni\\Desktop\\Work\\OCHA\\GitHub\\VirtualEnv\\hamenv\\lib\\site-packages\\fiona\\env.py\", line 457, in wrapper\n",
      "    return f(*args, **kwds)\n",
      "  File \"c:\\Users\\pauni\\Desktop\\Work\\OCHA\\GitHub\\VirtualEnv\\hamenv\\lib\\site-packages\\fiona\\__init__.py\", line 360, in open\n",
      "    colxn = Collection(\n",
      "  File \"c:\\Users\\pauni\\Desktop\\Work\\OCHA\\GitHub\\VirtualEnv\\hamenv\\lib\\site-packages\\fiona\\collection.py\", line 234, in __init__\n",
      "    self.session.start(self, **kwargs)\n",
      "  File \"fiona\\ogrext.pyx\", line 587, in fiona.ogrext.Session.start\n",
      "  File \"fiona\\ogrext.pyx\", line 143, in fiona.ogrext.gdal_open_vector\n",
      "fiona.errors.DriverError: '/vsizip/G:\\Shared drives\\Predictive Analytics\\CERF Anticipatory Action\\General - All AA projects\\Data\\public\\raw\\ner\\cod_ab\\ner_cod_ab.shp.zip\\NER_adm01_feb2018.zip' does not exist in the file system, and is not recognized as a supported dataset name.\n",
      "\n",
      "The above exception was the direct cause of the following exception:\n",
      "\n",
      "Traceback (most recent call last):\n",
      "  File \"c:\\Users\\pauni\\Desktop\\Work\\OCHA\\GitHub\\VirtualEnv\\hamenv\\lib\\site-packages\\IPython\\core\\interactiveshell.py\", line 3460, in run_code\n",
      "    exec(code_obj, self.user_global_ns, self.user_ns)\n",
      "  File \"C:\\Users\\pauni\\AppData\\Local\\Temp\\ipykernel_30656\\768388918.py\", line 1, in <module>\n",
      "    ner_admin1 = codab.load(admin_level=1)\n",
      "  File \"c:\\Users\\pauni\\Desktop\\Work\\OCHA\\GitHub\\VirtualEnv\\hamenv\\lib\\site-packages\\ochanticipy\\datasources\\codab\\codab.py\", line 110, in load\n",
      "    return self._load_admin_layer(\n",
      "  File \"c:\\Users\\pauni\\Desktop\\Work\\OCHA\\GitHub\\VirtualEnv\\hamenv\\lib\\site-packages\\ochanticipy\\datasources\\codab\\codab.py\", line 164, in _load_admin_layer\n",
      "    raise FileNotFoundError(\n",
      "FileNotFoundError: Could not read boundary shapefile. Make sure that you have already called the 'download' method and that the file G:\\Shared drives\\Predictive Analytics\\CERF Anticipatory Action\\General - All AA projects\\Data\\public\\raw\\ner\\cod_ab\\ner_cod_ab.shp.zip exists. If it does exist, please check the validity of the layer name: 'NER_adm01_feb2018.zip'.\n",
      "\n",
      "During handling of the above exception, another exception occurred:\n",
      "\n",
      "Traceback (most recent call last):\n",
      "  File \"c:\\Users\\pauni\\Desktop\\Work\\OCHA\\GitHub\\VirtualEnv\\hamenv\\lib\\site-packages\\IPython\\core\\interactiveshell.py\", line 2057, in showtraceback\n",
      "    stb = self.InteractiveTB.structured_traceback(\n",
      "  File \"c:\\Users\\pauni\\Desktop\\Work\\OCHA\\GitHub\\VirtualEnv\\hamenv\\lib\\site-packages\\IPython\\core\\ultratb.py\", line 1288, in structured_traceback\n",
      "    return FormattedTB.structured_traceback(\n",
      "  File \"c:\\Users\\pauni\\Desktop\\Work\\OCHA\\GitHub\\VirtualEnv\\hamenv\\lib\\site-packages\\IPython\\core\\ultratb.py\", line 1177, in structured_traceback\n",
      "    return VerboseTB.structured_traceback(\n",
      "  File \"c:\\Users\\pauni\\Desktop\\Work\\OCHA\\GitHub\\VirtualEnv\\hamenv\\lib\\site-packages\\IPython\\core\\ultratb.py\", line 1049, in structured_traceback\n",
      "    formatted_exceptions += self.format_exception_as_a_whole(etype, evalue, etb, lines_of_context,\n",
      "  File \"c:\\Users\\pauni\\Desktop\\Work\\OCHA\\GitHub\\VirtualEnv\\hamenv\\lib\\site-packages\\IPython\\core\\ultratb.py\", line 935, in format_exception_as_a_whole\n",
      "    self.get_records(etb, number_of_lines_of_context, tb_offset) if etb else []\n",
      "  File \"c:\\Users\\pauni\\Desktop\\Work\\OCHA\\GitHub\\VirtualEnv\\hamenv\\lib\\site-packages\\IPython\\core\\ultratb.py\", line 1003, in get_records\n",
      "    lines, first = inspect.getsourcelines(etb.tb_frame)\n",
      "  File \"C:\\Users\\pauni\\AppData\\Local\\Programs\\Python\\Python39\\lib\\inspect.py\", line 994, in getsourcelines\n",
      "    lines, lnum = findsource(object)\n",
      "  File \"C:\\Users\\pauni\\AppData\\Local\\Programs\\Python\\Python39\\lib\\inspect.py\", line 835, in findsource\n",
      "    raise OSError('could not get source code')\n",
      "OSError: could not get source code\n"
     ]
    }
   ],
   "source": [
    "ner_admin1 = codab.load(admin_level=1)"
   ]
  }
 ],
 "metadata": {
  "kernelspec": {
   "display_name": "hamenv",
   "language": "python",
   "name": "python3"
  },
  "language_info": {
   "codemirror_mode": {
    "name": "ipython",
    "version": 3
   },
   "file_extension": ".py",
   "mimetype": "text/x-python",
   "name": "python",
   "nbconvert_exporter": "python",
   "pygments_lexer": "ipython3",
   "version": "3.9.0"
  },
  "orig_nbformat": 4,
  "vscode": {
   "interpreter": {
    "hash": "c4d58356c2e01fa6c3c8c317b5487c457fdf07fab2d8a5e8dd3a4e536a2cd5a4"
   }
  }
 },
 "nbformat": 4,
 "nbformat_minor": 2
}

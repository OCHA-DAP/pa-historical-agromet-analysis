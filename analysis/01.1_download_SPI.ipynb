{
 "cells": [
  {
   "attachments": {},
   "cell_type": "markdown",
   "metadata": {},
   "source": [
    "# Downloading SPI Data from IRI"
   ]
  },
  {
   "cell_type": "code",
   "execution_count": 1,
   "metadata": {},
   "outputs": [
    {
     "data": {
      "text/html": [
       "\n",
       "                <script type=\"application/javascript\" id=\"jupyter_black\">\n",
       "                (function() {\n",
       "                    if (window.IPython === undefined) {\n",
       "                        return\n",
       "                    }\n",
       "                    var msg = \"WARNING: it looks like you might have loaded \" +\n",
       "                        \"jupyter_black in a non-lab notebook with \" +\n",
       "                        \"`is_lab=True`. Please double check, and if \" +\n",
       "                        \"loading with `%load_ext` please review the README!\"\n",
       "                    console.log(msg)\n",
       "                    alert(msg)\n",
       "                })()\n",
       "                </script>\n",
       "                "
      ],
      "text/plain": [
       "<IPython.core.display.HTML object>"
      ]
     },
     "metadata": {},
     "output_type": "display_data"
    }
   ],
   "source": [
    "%load_ext jupyter_black\n",
    "import os\n",
    "from pathlib import Path\n",
    "import requests"
   ]
  },
  {
   "cell_type": "code",
   "execution_count": 29,
   "metadata": {},
   "outputs": [],
   "source": [
    "data_dir = Path(os.getenv(\"HAM_DIR\")) / \"precipitation/spi/\""
   ]
  },
  {
   "cell_type": "code",
   "execution_count": 40,
   "metadata": {},
   "outputs": [],
   "source": [
    "# URL = \"http://iridl.ldeo.columbia.edu/home/.rijaf/.Niger/.ENACTS/.MON/.seasonal/.rainfall/.CHIRP/.SPI-2-month/.spi/ngridtable/4+ncoltable.html?tabopt.N=5&tabopt.1=text&tabopt.2=text&tabopt.3=text&tabopt.4=text&tabopt.5=blankNaN&NaNmarker=&tabtype=csv&eol=CR-LF+%28DOS%2FWindows%29&filename=datafile.csv\"\n",
    "# response = requests.get(URL)\n",
    "# open(data_dir / \"SPIdatafile.csv\", \"wb\").write(response.content)"
   ]
  },
  {
   "cell_type": "code",
   "execution_count": 43,
   "metadata": {},
   "outputs": [],
   "source": [
    "URL_spi_1 = \"http://iridl.ldeo.columbia.edu/home/.rijaf/.Niger/.ENACTS/.MON/.monthly/.rainfall/.CHIRP/.spi/T/\"\n",
    "URL_spi_2 = \".5/VALUE/Y/11/24/RANGEEDGES/%5BX/Y/%5D/palettecolor.tiff?filename=\"\n",
    "\n",
    "# \"http://iridl.ldeo.columbia.edu/home/.rijaf/.Niger/.ENACTS/.MON/.monthly/.rainfall/.CHIRP/.spi/T/752.5/VALUE/%5BX/Y/%5D/palettecolor.tiff?filename=data202209.tiff\"\n",
    "# \"http://iridl.ldeo.columbia.edu/home/.rijaf/.Niger/.ENACTS/.MON/.monthly/.rainfall/.CHIRP/.spi/T/751.5/VALUE/Y/11.0/24.0/RANGEEDGES/%5BX/Y/%5D/palettecolor.tiff?filename=data202208.tiff\"\n",
    "# \"http://iridl.ldeo.columbia.edu/home/.rijaf/.Niger/.ENACTS/.MON/.monthly/.rainfall/.CHIRP/.spi/T/750.5/VALUE/Y/11/24/RANGEEDGES/%5BX/Y/%5D/palettecolor.tiff?filename=data202207.tiff\"\n",
    "# \"http://iridl.ldeo.columbia.edu/home/.rijaf/.Niger/.ENACTS/.MON/.monthly/.rainfall/.CHIRP/.spi/T/749.5/VALUE/Y/11/24/RANGEEDGES/%5BX/Y/%5D/palettecolor.tiff?filename=data202206.tiff\"\n",
    "# \"http://iridl.ldeo.columbia.edu/home/.rijaf/.Niger/.ENACTS/.MON/.monthly/.rainfall/.CHIRP/.spi/downloadsGeoTiff.html?map.T.plotvalue=Jun+2022&map.Y.units=degree_north&map.Y.plotlast=24N&map.url=+home+.rijaf+.Niger+.ENACTS+.MON+.monthly+.rainfall+.CHIRP+.spi+X+Y+fig-+colors+black+thinnish+countries_gaz+-fig&map.domain=+%7B+%2FT+750.5+plotvalue+Y+11+24+plotrange+%7D&map.domainparam=+%2Fplotaxislength+300+psdef+%2Fplotborder+72+psdef&map.zoom=Click+for+Info&map.Y.plotfirst=11N&map.X.plotfirst=6.0945749E-06W&map.X.units=degree_east&map.X.modulus=360&map.X.plotlast=15.99999E&geotifftype=palettecolor.tiff\""
   ]
  },
  {
   "cell_type": "code",
   "execution_count": 52,
   "metadata": {},
   "outputs": [],
   "source": [
    "years = list(range(1981, 2023))\n",
    "months = [f\"{x:02}\" for x in list(range(1, 13))]\n",
    "yrmon = [str(yr) + mon for yr in years for mon in months]\n",
    "spi_file_list = [\"data\" + ym + \".tiff\" for ym in yrmon]\n",
    "spi_file_list.reverse()\n",
    "initial_val = 752"
   ]
  },
  {
   "cell_type": "code",
   "execution_count": 53,
   "metadata": {},
   "outputs": [],
   "source": [
    "# only running the loop from Sep 2022\n",
    "for file in spi_file_list[3:]:\n",
    "    req = requests.get(\n",
    "        URL_spi_1 + str(initial_val) + URL_spi_2 + file, verify=False, stream=True\n",
    "    )\n",
    "    open(data_dir / file, \"wb\").write(req.content)\n",
    "    initial_val -= 1"
   ]
  }
 ],
 "metadata": {
  "kernelspec": {
   "display_name": "hamenv",
   "language": "python",
   "name": "python3"
  },
  "language_info": {
   "codemirror_mode": {
    "name": "ipython",
    "version": 3
   },
   "file_extension": ".py",
   "mimetype": "text/x-python",
   "name": "python",
   "nbconvert_exporter": "python",
   "pygments_lexer": "ipython3",
   "version": "3.9.0"
  },
  "orig_nbformat": 4,
  "vscode": {
   "interpreter": {
    "hash": "c4d58356c2e01fa6c3c8c317b5487c457fdf07fab2d8a5e8dd3a4e536a2cd5a4"
   }
  }
 },
 "nbformat": 4,
 "nbformat_minor": 2
}

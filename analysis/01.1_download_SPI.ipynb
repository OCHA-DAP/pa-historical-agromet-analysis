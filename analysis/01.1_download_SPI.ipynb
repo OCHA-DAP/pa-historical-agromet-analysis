{
 "cells": [
  {
   "attachments": {},
   "cell_type": "markdown",
   "metadata": {},
   "source": [
    "# Downloading SPI Data from IRI"
   ]
  },
  {
   "cell_type": "code",
   "execution_count": 1,
   "metadata": {},
   "outputs": [
    {
     "data": {
      "text/html": [
       "\n",
       "                <script type=\"application/javascript\" id=\"jupyter_black\">\n",
       "                (function() {\n",
       "                    if (window.IPython === undefined) {\n",
       "                        return\n",
       "                    }\n",
       "                    var msg = \"WARNING: it looks like you might have loaded \" +\n",
       "                        \"jupyter_black in a non-lab notebook with \" +\n",
       "                        \"`is_lab=True`. Please double check, and if \" +\n",
       "                        \"loading with `%load_ext` please review the README!\"\n",
       "                    console.log(msg)\n",
       "                    alert(msg)\n",
       "                })()\n",
       "                </script>\n",
       "                "
      ],
      "text/plain": [
       "<IPython.core.display.HTML object>"
      ]
     },
     "metadata": {},
     "output_type": "display_data"
    }
   ],
   "source": [
    "%load_ext jupyter_black\n",
    "import os\n",
    "from pathlib import Path\n",
    "import requests"
   ]
  },
  {
   "cell_type": "code",
   "execution_count": 2,
   "metadata": {},
   "outputs": [],
   "source": [
    "data_dir = Path(os.getenv(\"HAM_DIR\")) / \"precipitation/\""
   ]
  },
  {
   "cell_type": "code",
   "execution_count": null,
   "metadata": {},
   "outputs": [],
   "source": [
    "# URL = \"http://iridl.ldeo.columbia.edu/home/.rijaf/.Niger/.ENACTS/.MON/.seasonal/.rainfall/.CHIRP/.SPI-2-month/.spi/ngridtable/4+ncoltable.html?tabopt.N=5&tabopt.1=text&tabopt.2=text&tabopt.3=text&tabopt.4=text&tabopt.5=blankNaN&NaNmarker=&tabtype=csv&eol=CR-LF+%28DOS%2FWindows%29&filename=datafile.csv\"\n",
    "# response = requests.get(URL)\n",
    "# open(data_dir / \"SPIdatafile.csv\", \"wb\").write(response.content)"
   ]
  },
  {
   "cell_type": "code",
   "execution_count": null,
   "metadata": {},
   "outputs": [],
   "source": [
    "#URL_spi = \n",
    "#\"http://iridl.ldeo.columbia.edu/home/.rijaf/.Niger/.ENACTS/.MON/.monthly/.rainfall/.CHIRP/.spi/T/752.5/VALUE/%5BX/Y/%5D/palettecolor.tiff?filename=data202209.tiff\"\n",
    "#\"http://iridl.ldeo.columbia.edu/home/.rijaf/.Niger/.ENACTS/.MON/.monthly/.rainfall/.CHIRP/.spi/T/751.5/VALUE/Y/11.0/24.0/RANGEEDGES/%5BX/Y/%5D/palettecolor.tiff?filename=data202208.tiff\"\n",
    "#\"http://iridl.ldeo.columbia.edu/home/.rijaf/.Niger/.ENACTS/.MON/.monthly/.rainfall/.CHIRP/.spi/T/750.5/VALUE/Y/11/24/RANGEEDGES/%5BX/Y/%5D/palettecolor.tiff?filename=data202207.tiff\"\n",
    "#\"http://iridl.ldeo.columbia.edu/home/.rijaf/.Niger/.ENACTS/.MON/.monthly/.rainfall/.CHIRP/.spi/T/749.5/VALUE/Y/11/24/RANGEEDGES/%5BX/Y/%5D/palettecolor.tiff?filename=data202206.tiff\"\n",
    "#\"http://iridl.ldeo.columbia.edu/home/.rijaf/.Niger/.ENACTS/.MON/.monthly/.rainfall/.CHIRP/.spi/data.nc\""
   ]
  },
  {
   "cell_type": "code",
   "execution_count": null,
   "metadata": {},
   "outputs": [],
   "source": [
    "#years = list(range(1981, 2023))\n",
    "#months = [f\"{x:02}\" for x in list(range(1, 13))]\n",
    "#yrmon = [str(yr) + mon for yr in years for mon in months]\n",
    "#spi_file_list = [\"data\" + ym + \".tiff\" for ym in yrmon]\n",
    "#spi_file_list.reverse()\n",
    "#initial_val = 752"
   ]
  },
  {
   "cell_type": "code",
   "execution_count": null,
   "metadata": {},
   "outputs": [],
   "source": [
    "for file in spi_file_list:\n",
    "    if file in spi_file_list:\n",
    "        req = requests.get(URL_spi + file, verify=False, stream=True)\n",
    "        with zipfile.ZipFile(io.BytesIO(req.content)) as zObj:\n",
    "            fileNames = zObj.namelist()\n",
    "            for fileName in fileNames:\n",
    "                if fileName.endswith(\"tif\"):\n",
    "                    content = zObj.open(fileName).read()\n",
    "                    open(ndvi_dir / fileName, \"wb\").write(content)\n",
    "                    input_raster = rio.open_rasterio(ndvi_dir / fileName)\n",
    "                    input_value = input_raster.load()\n",
    "                    input_raster.close()\n",
    "                    rast_clip = input_value.rio.clip_box(*ner_shp_adm0.total_bounds)\n",
    "                    rast_clip.rio.to_raster(\n",
    "                        ndvi_dir / fileName, dtype=\"uint8\", compress=\"DEFLATE\"\n",
    "                    )"
   ]
  },
  {
   "cell_type": "code",
   "execution_count": null,
   "metadata": {},
   "outputs": [],
   "source": [
    "URL = \"http://iridl.ldeo.columbia.edu/home/.rijaf/.Niger/.ENACTS/.MON/.monthly/.rainfall/.CHIRP/.spi/data.nc\"\n",
    "response = requests.get(URL)\n",
    "open(data_dir / \"SPIdatafile.nc\", \"wb\").write(response.content)"
   ]
  }
 ],
 "metadata": {
  "kernelspec": {
   "display_name": "hamenv",
   "language": "python",
   "name": "python3"
  },
  "language_info": {
   "codemirror_mode": {
    "name": "ipython",
    "version": 3
   },
   "file_extension": ".py",
   "mimetype": "text/x-python",
   "name": "python",
   "nbconvert_exporter": "python",
   "pygments_lexer": "ipython3",
   "version": "3.9.0"
  },
  "orig_nbformat": 4,
  "vscode": {
   "interpreter": {
    "hash": "c4d58356c2e01fa6c3c8c317b5487c457fdf07fab2d8a5e8dd3a4e536a2cd5a4"
   }
  }
 },
 "nbformat": 4,
 "nbformat_minor": 2
}

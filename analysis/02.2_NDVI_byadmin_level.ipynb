{
 "cells": [
  {
   "attachments": {},
   "cell_type": "markdown",
   "metadata": {},
   "source": [
    "# Converting NDVI Values to Admin 1 and Admin 2"
   ]
  },
  {
   "cell_type": "code",
   "execution_count": 1,
   "metadata": {},
   "outputs": [
    {
     "data": {
      "text/html": [
       "\n",
       "                <script type=\"application/javascript\" id=\"jupyter_black\">\n",
       "                (function() {\n",
       "                    if (window.IPython === undefined) {\n",
       "                        return\n",
       "                    }\n",
       "                    var msg = \"WARNING: it looks like you might have loaded \" +\n",
       "                        \"jupyter_black in a non-lab notebook with \" +\n",
       "                        \"`is_lab=True`. Please double check, and if \" +\n",
       "                        \"loading with `%load_ext` please review the README!\"\n",
       "                    console.log(msg)\n",
       "                    alert(msg)\n",
       "                })()\n",
       "                </script>\n",
       "                "
      ],
      "text/plain": [
       "<IPython.core.display.HTML object>"
      ]
     },
     "metadata": {},
     "output_type": "display_data"
    }
   ],
   "source": [
    "%load_ext jupyter_black\n",
    "import os\n",
    "from pathlib import Path\n",
    "import pandas as pd\n",
    "import geopandas as gpd\n",
    "import rasterio\n",
    "from rasterstats import zonal_stats"
   ]
  },
  {
   "cell_type": "code",
   "execution_count": 2,
   "metadata": {},
   "outputs": [],
   "source": [
    "data_dir = Path(os.getenv(\"HAM_DIR\")) / \"vegetation/ndvi/\"\n",
    "output_dir = Path(os.getenv(\"HAM_DIR\")) / \"vegetation/\"\n",
    "shp_dir = Path(os.getenv(\"AA_DATA_DIR\")) / \"public/raw/ner/cod_ab/ner_cod_ab/\""
   ]
  },
  {
   "cell_type": "code",
   "execution_count": 3,
   "metadata": {},
   "outputs": [],
   "source": [
    "ner_shp_adm0 = gpd.read_file(shp_dir / \"adm0.shp.zip\")\n",
    "ner_shp_adm1 = gpd.read_file(shp_dir / \"adm1.shp.zip\")\n",
    "ner_shp_adm2 = gpd.read_file(shp_dir / \"adm2.shp.zip\")"
   ]
  },
  {
   "cell_type": "code",
   "execution_count": 4,
   "metadata": {},
   "outputs": [
    {
     "data": {
      "text/plain": [
       "array([ 0.16625  , 11.69697  , 15.99564  , 23.5331862])"
      ]
     },
     "execution_count": 4,
     "metadata": {},
     "output_type": "execute_result"
    }
   ],
   "source": [
    "ner_shp_adm0.total_bounds"
   ]
  },
  {
   "cell_type": "markdown",
   "metadata": {},
   "source": [
    "## Admin 1"
   ]
  },
  {
   "cell_type": "code",
   "execution_count": 5,
   "metadata": {},
   "outputs": [
    {
     "data": {
      "text/html": [
       "<div>\n",
       "<style scoped>\n",
       "    .dataframe tbody tr th:only-of-type {\n",
       "        vertical-align: middle;\n",
       "    }\n",
       "\n",
       "    .dataframe tbody tr th {\n",
       "        vertical-align: top;\n",
       "    }\n",
       "\n",
       "    .dataframe thead th {\n",
       "        text-align: right;\n",
       "    }\n",
       "</style>\n",
       "<table border=\"1\" class=\"dataframe\">\n",
       "  <thead>\n",
       "    <tr style=\"text-align: right;\">\n",
       "      <th></th>\n",
       "      <th>adm_01</th>\n",
       "      <th>rowcacode1</th>\n",
       "      <th>NOMREG</th>\n",
       "      <th>geometry</th>\n",
       "    </tr>\n",
       "  </thead>\n",
       "  <tbody>\n",
       "    <tr>\n",
       "      <th>0</th>\n",
       "      <td>Agadez</td>\n",
       "      <td>NER001</td>\n",
       "      <td>AGADEZ</td>\n",
       "      <td>POLYGON ((11.98901 23.53319, 11.99796 23.51602...</td>\n",
       "    </tr>\n",
       "    <tr>\n",
       "      <th>1</th>\n",
       "      <td>Diffa</td>\n",
       "      <td>NER002</td>\n",
       "      <td>DIFFA</td>\n",
       "      <td>POLYGON ((15.55942 18.00625, 15.55675 17.95649...</td>\n",
       "    </tr>\n",
       "    <tr>\n",
       "      <th>2</th>\n",
       "      <td>Dosso</td>\n",
       "      <td>NER003</td>\n",
       "      <td>DOSSO</td>\n",
       "      <td>POLYGON ((3.66840 11.98401, 3.66388 11.98413, ...</td>\n",
       "    </tr>\n",
       "    <tr>\n",
       "      <th>3</th>\n",
       "      <td>Maradi</td>\n",
       "      <td>NER004</td>\n",
       "      <td>MARADI</td>\n",
       "      <td>POLYGON ((7.76947 14.42108, 7.82971 14.41669, ...</td>\n",
       "    </tr>\n",
       "    <tr>\n",
       "      <th>4</th>\n",
       "      <td>Niamey</td>\n",
       "      <td>NER008</td>\n",
       "      <td>NIAMEY</td>\n",
       "      <td>POLYGON ((2.09448 13.61969, 2.09711 13.61829, ...</td>\n",
       "    </tr>\n",
       "    <tr>\n",
       "      <th>5</th>\n",
       "      <td>Tahoua</td>\n",
       "      <td>NER005</td>\n",
       "      <td>TAHOUA</td>\n",
       "      <td>POLYGON ((4.87129 18.67932, 4.83798 18.58273, ...</td>\n",
       "    </tr>\n",
       "    <tr>\n",
       "      <th>6</th>\n",
       "      <td>Tillabéri</td>\n",
       "      <td>NER006</td>\n",
       "      <td>TILLABERI</td>\n",
       "      <td>POLYGON ((3.88129 15.68909, 4.01208 15.39410, ...</td>\n",
       "    </tr>\n",
       "    <tr>\n",
       "      <th>7</th>\n",
       "      <td>Zinder</td>\n",
       "      <td>NER007</td>\n",
       "      <td>ZINDER</td>\n",
       "      <td>POLYGON ((12.00488 17.41852, 12.00427 15.99390...</td>\n",
       "    </tr>\n",
       "  </tbody>\n",
       "</table>\n",
       "</div>"
      ],
      "text/plain": [
       "      adm_01 rowcacode1     NOMREG  \\\n",
       "0     Agadez     NER001     AGADEZ   \n",
       "1      Diffa     NER002      DIFFA   \n",
       "2      Dosso     NER003      DOSSO   \n",
       "3     Maradi     NER004     MARADI   \n",
       "4     Niamey     NER008     NIAMEY   \n",
       "5     Tahoua     NER005     TAHOUA   \n",
       "6  Tillabéri     NER006  TILLABERI   \n",
       "7     Zinder     NER007     ZINDER   \n",
       "\n",
       "                                            geometry  \n",
       "0  POLYGON ((11.98901 23.53319, 11.99796 23.51602...  \n",
       "1  POLYGON ((15.55942 18.00625, 15.55675 17.95649...  \n",
       "2  POLYGON ((3.66840 11.98401, 3.66388 11.98413, ...  \n",
       "3  POLYGON ((7.76947 14.42108, 7.82971 14.41669, ...  \n",
       "4  POLYGON ((2.09448 13.61969, 2.09711 13.61829, ...  \n",
       "5  POLYGON ((4.87129 18.67932, 4.83798 18.58273, ...  \n",
       "6  POLYGON ((3.88129 15.68909, 4.01208 15.39410, ...  \n",
       "7  POLYGON ((12.00488 17.41852, 12.00427 15.99390...  "
      ]
     },
     "execution_count": 5,
     "metadata": {},
     "output_type": "execute_result"
    }
   ],
   "source": [
    "ner_shp_adm1.drop(\n",
    "    [\"OBJECTID\", \"Shape_Leng\", \"Shape_Area\", \"ISO3\", \"ISO2\"], axis=1, inplace=True\n",
    ")\n",
    "ner_shp_adm1"
   ]
  },
  {
   "cell_type": "code",
   "execution_count": 6,
   "metadata": {},
   "outputs": [
    {
     "ename": "KeyboardInterrupt",
     "evalue": "",
     "output_type": "error",
     "traceback": [
      "\u001b[1;31m---------------------------------------------------------------------------\u001b[0m",
      "\u001b[1;31mKeyboardInterrupt\u001b[0m                         Traceback (most recent call last)",
      "Cell \u001b[1;32mIn[6], line 8\u001b[0m\n\u001b[0;32m      6\u001b[0m input_raster \u001b[39m=\u001b[39m rasterio\u001b[39m.\u001b[39mopen(file_path)\n\u001b[0;32m      7\u001b[0m array \u001b[39m=\u001b[39m input_raster\u001b[39m.\u001b[39mread(\u001b[39m1\u001b[39m)\n\u001b[1;32m----> 8\u001b[0m summary_stats \u001b[39m=\u001b[39m zonal_stats(\n\u001b[0;32m      9\u001b[0m     ner_shp_adm1,\n\u001b[0;32m     10\u001b[0m     array,\n\u001b[0;32m     11\u001b[0m     stats\u001b[39m=\u001b[39;49m[\u001b[39m\"\u001b[39;49m\u001b[39mmean\u001b[39;49m\u001b[39m\"\u001b[39;49m, \u001b[39m\"\u001b[39;49m\u001b[39mmedian\u001b[39;49m\u001b[39m\"\u001b[39;49m],\n\u001b[0;32m     12\u001b[0m     nodata\u001b[39m=\u001b[39;49m\u001b[39m0\u001b[39;49m,\n\u001b[0;32m     13\u001b[0m     all_touched\u001b[39m=\u001b[39;49m\u001b[39mTrue\u001b[39;49;00m,\n\u001b[0;32m     14\u001b[0m     affine\u001b[39m=\u001b[39;49minput_raster\u001b[39m.\u001b[39;49mtransform,\n\u001b[0;32m     15\u001b[0m )\n\u001b[0;32m     16\u001b[0m adm1_stats \u001b[39m=\u001b[39m pd\u001b[39m.\u001b[39mDataFrame(summary_stats)\n\u001b[0;32m     17\u001b[0m file_df \u001b[39m=\u001b[39m pd\u001b[39m.\u001b[39mmerge(\n\u001b[0;32m     18\u001b[0m     ner_shp_adm1[[\u001b[39m\"\u001b[39m\u001b[39mrowcacode1\u001b[39m\u001b[39m\"\u001b[39m, \u001b[39m\"\u001b[39m\u001b[39mNOMREG\u001b[39m\u001b[39m\"\u001b[39m]],\n\u001b[0;32m     19\u001b[0m     adm1_stats,\n\u001b[0;32m     20\u001b[0m     left_index\u001b[39m=\u001b[39m\u001b[39mTrue\u001b[39;00m,\n\u001b[0;32m     21\u001b[0m     right_index\u001b[39m=\u001b[39m\u001b[39mTrue\u001b[39;00m,\n\u001b[0;32m     22\u001b[0m )\n",
      "File \u001b[1;32mc:\\Users\\pauni\\Desktop\\Work\\OCHA\\GitHub\\VirtualEnv\\hamenv\\lib\\site-packages\\rasterstats\\main.py:40\u001b[0m, in \u001b[0;36mzonal_stats\u001b[1;34m(*args, **kwargs)\u001b[0m\n\u001b[0;32m     32\u001b[0m \u001b[39mdef\u001b[39;00m \u001b[39mzonal_stats\u001b[39m(\u001b[39m*\u001b[39margs, \u001b[39m*\u001b[39m\u001b[39m*\u001b[39mkwargs):\n\u001b[0;32m     33\u001b[0m \u001b[39m    \u001b[39m\u001b[39m\"\"\"The primary zonal statistics entry point.\u001b[39;00m\n\u001b[0;32m     34\u001b[0m \n\u001b[0;32m     35\u001b[0m \u001b[39m    All arguments are passed directly to ``gen_zonal_stats``.\u001b[39;00m\n\u001b[1;32m   (...)\u001b[0m\n\u001b[0;32m     38\u001b[0m \u001b[39m    The only difference is that ``zonal_stats`` will\u001b[39;00m\n\u001b[0;32m     39\u001b[0m \u001b[39m    return a list rather than a generator.\"\"\"\u001b[39;00m\n\u001b[1;32m---> 40\u001b[0m     \u001b[39mreturn\u001b[39;00m \u001b[39mlist\u001b[39;49m(gen_zonal_stats(\u001b[39m*\u001b[39;49margs, \u001b[39m*\u001b[39;49m\u001b[39m*\u001b[39;49mkwargs))\n",
      "File \u001b[1;32mc:\\Users\\pauni\\Desktop\\Work\\OCHA\\GitHub\\VirtualEnv\\hamenv\\lib\\site-packages\\rasterstats\\main.py:178\u001b[0m, in \u001b[0;36mgen_zonal_stats\u001b[1;34m(vectors, raster, layer, band, nodata, affine, stats, all_touched, categorical, category_map, add_stats, zone_func, raster_out, prefix, geojson_out, boundless, **kwargs)\u001b[0m\n\u001b[0;32m    175\u001b[0m fsrc \u001b[39m=\u001b[39m rast\u001b[39m.\u001b[39mread(bounds\u001b[39m=\u001b[39mgeom_bounds, boundless\u001b[39m=\u001b[39mboundless)\n\u001b[0;32m    177\u001b[0m \u001b[39m# rasterized geometry\u001b[39;00m\n\u001b[1;32m--> 178\u001b[0m rv_array \u001b[39m=\u001b[39m rasterize_geom(geom, like\u001b[39m=\u001b[39;49mfsrc, all_touched\u001b[39m=\u001b[39;49mall_touched)\n\u001b[0;32m    180\u001b[0m \u001b[39m# nodata mask\u001b[39;00m\n\u001b[0;32m    181\u001b[0m isnodata \u001b[39m=\u001b[39m fsrc\u001b[39m.\u001b[39marray \u001b[39m==\u001b[39m fsrc\u001b[39m.\u001b[39mnodata\n",
      "File \u001b[1;32mc:\\Users\\pauni\\Desktop\\Work\\OCHA\\GitHub\\VirtualEnv\\hamenv\\lib\\site-packages\\rasterstats\\utils.py:59\u001b[0m, in \u001b[0;36mrasterize_geom\u001b[1;34m(geom, like, all_touched)\u001b[0m\n\u001b[0;32m     49\u001b[0m geoms \u001b[39m=\u001b[39m [(geom, \u001b[39m1\u001b[39m)]\n\u001b[0;32m     50\u001b[0m rv_array \u001b[39m=\u001b[39m features\u001b[39m.\u001b[39mrasterize(\n\u001b[0;32m     51\u001b[0m     geoms,\n\u001b[0;32m     52\u001b[0m     out_shape\u001b[39m=\u001b[39mlike\u001b[39m.\u001b[39mshape,\n\u001b[1;32m   (...)\u001b[0m\n\u001b[0;32m     56\u001b[0m     all_touched\u001b[39m=\u001b[39mall_touched,\n\u001b[0;32m     57\u001b[0m )\n\u001b[1;32m---> 59\u001b[0m \u001b[39mreturn\u001b[39;00m rv_array\u001b[39m.\u001b[39;49mastype(\u001b[39mbool\u001b[39;49m)\n",
      "\u001b[1;31mKeyboardInterrupt\u001b[0m: "
     ]
    }
   ],
   "source": [
    "file_list = os.listdir(data_dir)\n",
    "\n",
    "adm1_ndvi_df = pd.DataFrame()\n",
    "for file in file_list:\n",
    "    file_path = Path(data_dir / file)\n",
    "    input_raster = rasterio.open(file_path)\n",
    "    array = input_raster.read(1)\n",
    "    summary_stats = zonal_stats(\n",
    "        ner_shp_adm1,\n",
    "        array,\n",
    "        stats=[\"mean\", \"median\"],\n",
    "        nodata=0,\n",
    "        all_touched=True,\n",
    "        affine=input_raster.transform,\n",
    "    )\n",
    "    adm1_stats = pd.DataFrame(summary_stats)\n",
    "    file_df = pd.merge(\n",
    "        ner_shp_adm1[[\"rowcacode1\", \"NOMREG\"]],\n",
    "        adm1_stats,\n",
    "        left_index=True,\n",
    "        right_index=True,\n",
    "    )\n",
    "    # file_df[\"date\"] = file[(file.find(\"data\") + 4) : file.find(\".tiff\")]\n",
    "    adm1_ndvi_df = pd.concat([adm1_ndvi_df, file_df], axis=0)"
   ]
  },
  {
   "cell_type": "code",
   "execution_count": 7,
   "metadata": {},
   "outputs": [
    {
     "data": {
      "text/html": [
       "<div>\n",
       "<style scoped>\n",
       "    .dataframe tbody tr th:only-of-type {\n",
       "        vertical-align: middle;\n",
       "    }\n",
       "\n",
       "    .dataframe tbody tr th {\n",
       "        vertical-align: top;\n",
       "    }\n",
       "\n",
       "    .dataframe thead th {\n",
       "        text-align: right;\n",
       "    }\n",
       "</style>\n",
       "<table border=\"1\" class=\"dataframe\">\n",
       "  <thead>\n",
       "    <tr style=\"text-align: right;\">\n",
       "      <th></th>\n",
       "      <th>rowcacode1</th>\n",
       "      <th>NOMREG</th>\n",
       "      <th>mean</th>\n",
       "      <th>median</th>\n",
       "      <th>date</th>\n",
       "    </tr>\n",
       "  </thead>\n",
       "  <tbody>\n",
       "    <tr>\n",
       "      <th>0</th>\n",
       "      <td>NER001</td>\n",
       "      <td>AGADEZ</td>\n",
       "      <td>112.010722</td>\n",
       "      <td>112.0</td>\n",
       "      <td>207.ti</td>\n",
       "    </tr>\n",
       "    <tr>\n",
       "      <th>1</th>\n",
       "      <td>NER002</td>\n",
       "      <td>DIFFA</td>\n",
       "      <td>112.994590</td>\n",
       "      <td>111.0</td>\n",
       "      <td>207.ti</td>\n",
       "    </tr>\n",
       "    <tr>\n",
       "      <th>2</th>\n",
       "      <td>NER003</td>\n",
       "      <td>DOSSO</td>\n",
       "      <td>121.716683</td>\n",
       "      <td>121.0</td>\n",
       "      <td>207.ti</td>\n",
       "    </tr>\n",
       "    <tr>\n",
       "      <th>3</th>\n",
       "      <td>NER004</td>\n",
       "      <td>MARADI</td>\n",
       "      <td>120.451096</td>\n",
       "      <td>120.0</td>\n",
       "      <td>207.ti</td>\n",
       "    </tr>\n",
       "    <tr>\n",
       "      <th>4</th>\n",
       "      <td>NER008</td>\n",
       "      <td>NIAMEY</td>\n",
       "      <td>117.845657</td>\n",
       "      <td>117.0</td>\n",
       "      <td>207.ti</td>\n",
       "    </tr>\n",
       "    <tr>\n",
       "      <th>...</th>\n",
       "      <td>...</td>\n",
       "      <td>...</td>\n",
       "      <td>...</td>\n",
       "      <td>...</td>\n",
       "      <td>...</td>\n",
       "    </tr>\n",
       "    <tr>\n",
       "      <th>3</th>\n",
       "      <td>NER004</td>\n",
       "      <td>MARADI</td>\n",
       "      <td>117.664521</td>\n",
       "      <td>117.0</td>\n",
       "      <td>231.ti</td>\n",
       "    </tr>\n",
       "    <tr>\n",
       "      <th>4</th>\n",
       "      <td>NER008</td>\n",
       "      <td>NIAMEY</td>\n",
       "      <td>114.940038</td>\n",
       "      <td>114.0</td>\n",
       "      <td>231.ti</td>\n",
       "    </tr>\n",
       "    <tr>\n",
       "      <th>5</th>\n",
       "      <td>NER005</td>\n",
       "      <td>TAHOUA</td>\n",
       "      <td>113.829265</td>\n",
       "      <td>114.0</td>\n",
       "      <td>231.ti</td>\n",
       "    </tr>\n",
       "    <tr>\n",
       "      <th>6</th>\n",
       "      <td>NER006</td>\n",
       "      <td>TILLABERI</td>\n",
       "      <td>114.630654</td>\n",
       "      <td>113.0</td>\n",
       "      <td>231.ti</td>\n",
       "    </tr>\n",
       "    <tr>\n",
       "      <th>7</th>\n",
       "      <td>NER007</td>\n",
       "      <td>ZINDER</td>\n",
       "      <td>114.749614</td>\n",
       "      <td>114.0</td>\n",
       "      <td>231.ti</td>\n",
       "    </tr>\n",
       "  </tbody>\n",
       "</table>\n",
       "<p>200 rows × 5 columns</p>\n",
       "</div>"
      ],
      "text/plain": [
       "   rowcacode1     NOMREG        mean  median    date\n",
       "0      NER001     AGADEZ  112.010722   112.0  207.ti\n",
       "1      NER002      DIFFA  112.994590   111.0  207.ti\n",
       "2      NER003      DOSSO  121.716683   121.0  207.ti\n",
       "3      NER004     MARADI  120.451096   120.0  207.ti\n",
       "4      NER008     NIAMEY  117.845657   117.0  207.ti\n",
       "..        ...        ...         ...     ...     ...\n",
       "3      NER004     MARADI  117.664521   117.0  231.ti\n",
       "4      NER008     NIAMEY  114.940038   114.0  231.ti\n",
       "5      NER005     TAHOUA  113.829265   114.0  231.ti\n",
       "6      NER006  TILLABERI  114.630654   113.0  231.ti\n",
       "7      NER007     ZINDER  114.749614   114.0  231.ti\n",
       "\n",
       "[200 rows x 5 columns]"
      ]
     },
     "execution_count": 7,
     "metadata": {},
     "output_type": "execute_result"
    }
   ],
   "source": [
    "adm1_ndvi_df"
   ]
  },
  {
   "cell_type": "code",
   "execution_count": null,
   "metadata": {},
   "outputs": [],
   "source": [
    "adm1_ndvi_df.to_csv(output_dir / \"ner_adm1_ndvi.csv\", index=False)"
   ]
  },
  {
   "cell_type": "markdown",
   "metadata": {},
   "source": [
    "## Admin 2"
   ]
  },
  {
   "cell_type": "code",
   "execution_count": null,
   "metadata": {},
   "outputs": [],
   "source": [
    "ner_shp_adm2.drop(\n",
    "    [\"OBJECTID\", \"Shape_Leng\", \"Shape_Area\", \"adm_01\", \"rowcacode1\", \"ISO3\", \"ISO2\"],\n",
    "    axis=1,\n",
    "    inplace=True,\n",
    ")\n",
    "ner_shp_adm2"
   ]
  },
  {
   "cell_type": "code",
   "execution_count": null,
   "metadata": {},
   "outputs": [],
   "source": [
    "adm2_ndvi_df = pd.DataFrame()\n",
    "for file in file_list:\n",
    "    file_path = Path(data_dir / file)\n",
    "    input_raster = rasterio.open(file_path)\n",
    "    array = input_raster.read(1)\n",
    "    summary_stats = zonal_stats(\n",
    "        ner_shp_adm2,\n",
    "        array,\n",
    "        stats=[\"mean\", \"median\"],\n",
    "        nodata=0,\n",
    "        all_touched=True,\n",
    "        affine=input_raster.transform,\n",
    "    )\n",
    "    adm2_stats = pd.DataFrame(summary_stats)\n",
    "    file_df = pd.merge(\n",
    "        ner_shp_adm2[[\"rowcacode2\", \"NOMDEP\"]],\n",
    "        adm2_stats,\n",
    "        left_index=True,\n",
    "        right_index=True,\n",
    "    )\n",
    "    file_df[\"date\"] = file[(file.find(\"data\") + 4) : file.find(\".tiff\")]\n",
    "    adm2_ndvi_df = pd.concat([adm2_ndvi_df, file_df], axis=0)"
   ]
  },
  {
   "cell_type": "code",
   "execution_count": null,
   "metadata": {},
   "outputs": [],
   "source": [
    "adm2_ndvi_df"
   ]
  },
  {
   "cell_type": "code",
   "execution_count": null,
   "metadata": {},
   "outputs": [],
   "source": [
    "adm2_ndvi_df.to_csv(output_dir / \"ner_adm2_ndvi.csv\", index=False)"
   ]
  }
 ],
 "metadata": {
  "kernelspec": {
   "display_name": "hamenv",
   "language": "python",
   "name": "python3"
  },
  "language_info": {
   "codemirror_mode": {
    "name": "ipython",
    "version": 3
   },
   "file_extension": ".py",
   "mimetype": "text/x-python",
   "name": "python",
   "nbconvert_exporter": "python",
   "pygments_lexer": "ipython3",
   "version": "3.9.0"
  },
  "orig_nbformat": 4
 },
 "nbformat": 4,
 "nbformat_minor": 2
}

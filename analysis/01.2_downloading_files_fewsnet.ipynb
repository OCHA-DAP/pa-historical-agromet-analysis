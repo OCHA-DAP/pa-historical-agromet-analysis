{
 "cells": [
  {
   "attachments": {},
   "cell_type": "markdown",
   "metadata": {},
   "source": [
    "# Downloading data from FEWS NET USGS"
   ]
  },
  {
   "cell_type": "code",
   "execution_count": 5,
   "metadata": {},
   "outputs": [
    {
     "name": "stdout",
     "output_type": "stream",
     "text": [
      "The jupyter_black extension is already loaded. To reload it, use:\n",
      "  %reload_ext jupyter_black\n"
     ]
    }
   ],
   "source": [
    "# imports\n",
    "%load_ext jupyter_black\n",
    "from pathlib import Path\n",
    "import os\n",
    "import requests, zipfile, io\n",
    "from bs4 import BeautifulSoup\n",
    "import geopandas as gpd"
   ]
  },
  {
   "cell_type": "code",
   "execution_count": 7,
   "metadata": {},
   "outputs": [],
   "source": [
    "data_dir = Path(os.getenv(\"HAM_DIR\"))\n",
    "shp_dir = Path(os.getenv(\"AA_DATA_DIR\")) / \"public/raw/ner/cod_ab/ner_cod_ab/\""
   ]
  },
  {
   "cell_type": "code",
   "execution_count": 8,
   "metadata": {},
   "outputs": [
    {
     "data": {
      "text/plain": [
       "array([ 0.16625  , 11.69697  , 15.99564  , 23.5331862])"
      ]
     },
     "execution_count": 8,
     "metadata": {},
     "output_type": "execute_result"
    }
   ],
   "source": [
    "ner_shp_adm0 = gpd.read_file(shp_dir / \"adm0.shp.zip\")\n",
    "ner_shp_adm0.total_bounds"
   ]
  },
  {
   "attachments": {},
   "cell_type": "markdown",
   "metadata": {},
   "source": [
    "## NDVI"
   ]
  },
  {
   "cell_type": "code",
   "execution_count": 9,
   "metadata": {},
   "outputs": [],
   "source": [
    "ndvi_dir = data_dir / \"vegetation/ndvi/\""
   ]
  },
  {
   "cell_type": "code",
   "execution_count": 10,
   "metadata": {},
   "outputs": [
    {
     "name": "stderr",
     "output_type": "stream",
     "text": [
      "c:\\Users\\pauni\\Desktop\\Work\\OCHA\\GitHub\\VirtualEnv\\hamenv\\lib\\site-packages\\urllib3\\connectionpool.py:1045: InsecureRequestWarning: Unverified HTTPS request is being made to host 'edcintl.cr.usgs.gov'. Adding certificate verification is strongly advised. See: https://urllib3.readthedocs.io/en/1.26.x/advanced-usage.html#ssl-warnings\n",
      "  warnings.warn(\n"
     ]
    }
   ],
   "source": [
    "URL_ndvi = \"https://edcintl.cr.usgs.gov/downloads/sciweb1/shared/fews/web/africa/west/pentadal/eviirs/ndvi/temporallysmoothedndvi/downloads/pentadal/\"\n",
    "\n",
    "\n",
    "def list_files(URL, ext):\n",
    "    page = requests.get(URL, verify=False).text\n",
    "    soup = BeautifulSoup(page, \"html.parser\")\n",
    "    for node in soup.find_all(\"a\"):\n",
    "        if node.get(\"href\").endswith(ext):\n",
    "            file_url = [\n",
    "                URL + \"/\" + node.get(\"href\")\n",
    "                for node in soup.find_all(\"a\")\n",
    "                if node.get(\"href\").endswith(ext)\n",
    "            ]\n",
    "            file_list = [\n",
    "                node.get(\"href\")\n",
    "                for node in soup.find_all(\"a\")\n",
    "                if node.get(\"href\").endswith(ext)\n",
    "            ]\n",
    "    return file_list\n",
    "\n",
    "\n",
    "ndvi_file_list = list_files(URL=URL_ndvi, ext=\"zip\")"
   ]
  },
  {
   "cell_type": "code",
   "execution_count": null,
   "metadata": {},
   "outputs": [],
   "source": [
    "for file in ndvi_file_list:\n",
    "    if file in ndvi_file_list:\n",
    "        req = requests.get(URL_ndvi + file, verify=False, stream=True)\n",
    "        with zipfile.ZipFile(io.BytesIO(req.content)) as zObj:\n",
    "            fileNames = zObj.namelist()\n",
    "            for fileName in fileNames:\n",
    "                if fileName.endswith(\"tif\"):\n",
    "                    content = zObj.open(fileName).read()\n",
    "                    open(ndvi_dir / fileName, \"wb\").write(content)"
   ]
  },
  {
   "attachments": {},
   "cell_type": "markdown",
   "metadata": {},
   "source": [
    "## WRSI"
   ]
  },
  {
   "cell_type": "code",
   "execution_count": null,
   "metadata": {},
   "outputs": [],
   "source": [
    "wrsicroplands_dir = data_dir / \"water_requirements/wrsi/croplands/\"\n",
    "wrsirangelands_dir = data_dir / \"water_requirements/wrsi/rangelands/\"\n",
    "\n",
    "URL_wrsi = \"\"\n",
    "wrsi_file_list = list_files(URL=, ext=\"zip\")"
   ]
  }
 ],
 "metadata": {
  "kernelspec": {
   "display_name": "hamenv",
   "language": "python",
   "name": "python3"
  },
  "language_info": {
   "codemirror_mode": {
    "name": "ipython",
    "version": 3
   },
   "file_extension": ".py",
   "mimetype": "text/x-python",
   "name": "python",
   "nbconvert_exporter": "python",
   "pygments_lexer": "ipython3",
   "version": "3.9.0"
  },
  "orig_nbformat": 4
 },
 "nbformat": 4,
 "nbformat_minor": 2
}
